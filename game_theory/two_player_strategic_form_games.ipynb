{
 "cells": [
  {
   "cell_type": "code",
   "execution_count": 3,
   "metadata": {},
   "outputs": [],
   "source": [
    "# !pip install nashpy\n",
    "import nashpy as nash\n",
    "import numpy as np"
   ]
  },
  {
   "cell_type": "markdown",
   "metadata": {},
   "source": [
    "# Rock-Paper-Scissors\n",
    "No nash equilibrium"
   ]
  },
  {
   "cell_type": "code",
   "execution_count": 18,
   "metadata": {},
   "outputs": [
    {
     "name": "stdout",
     "output_type": "stream",
     "text": [
      "(array([0.33333333, 0.33333333, 0.33333333]), array([0.33333333, 0.33333333, 0.33333333]))\n"
     ]
    }
   ],
   "source": [
    "A = np.array([[0, -1, 1], [1, 0, -1], [-1, 1, 0]])\n",
    "B = - A\n",
    "rps = nash.Game(A, B)\n",
    "rps\n",
    "\n",
    "# Solve for the equilibria using support enumeration\n",
    "equilibria = rps.support_enumeration() # rps.vertex_enumeration() # rps.lemke_howson_enumeration()\n",
    "for eq in equilibria:\n",
    "    print(eq)"
   ]
  },
  {
   "cell_type": "markdown",
   "metadata": {},
   "source": [
    "# matching pennies\n",
    "zero sum game "
   ]
  },
  {
   "cell_type": "code",
   "execution_count": 9,
   "metadata": {},
   "outputs": [
    {
     "name": "stdout",
     "output_type": "stream",
     "text": [
      "[ 1 -1]\n",
      "[0. 0.]\n",
      "(array([0.5, 0.5]), array([0.5, 0.5]))\n"
     ]
    }
   ],
   "source": [
    "A = np.array([[1, -1], [-1, 1]])\n",
    "matching_pennies = nash.Game(A)\n",
    "matching_pennies\n",
    "\n",
    "# calc utilities\n",
    "# The utility for both players when they both play their first strategy:\n",
    "sigma_r = np.array([1, 0])\n",
    "sigma_c = np.array([1, 0])\n",
    "print(matching_pennies[sigma_r, sigma_c])\n",
    "# The utility to both players when they play uniformly randomly across both their strategies\n",
    "sigma_r = np.array([0.5 , 0.5])\n",
    "sigma_c = np.array([0.5 , 0.5])\n",
    "print(matching_pennies[sigma_r, sigma_c])\n",
    "\n",
    "# Solve for the equilibria using support enumeration\n",
    "equilibria = matching_pennies.support_enumeration() # matching_pennies.vertex_enumeration() # matching_pennies.lemke_howson_enumeration()\n",
    "for eq in equilibria:\n",
    "    print(eq)"
   ]
  },
  {
   "cell_type": "markdown",
   "metadata": {},
   "source": [
    "# prisoners dilemma\n",
    "non zero sum game "
   ]
  },
  {
   "cell_type": "code",
   "execution_count": 10,
   "metadata": {},
   "outputs": [
    {
     "name": "stdout",
     "output_type": "stream",
     "text": [
      "[3 3]\n",
      "[2.25 2.25]\n",
      "(array([0., 1.]), array([0., 1.]))\n"
     ]
    }
   ],
   "source": [
    "A = np.array([[3, 0], [5, 1]])\n",
    "B = np.array([[3, 5], [0, 1]])\n",
    "prisoners_dilemma = nash.Game(A, B)\n",
    "prisoners_dilemma\n",
    "\n",
    "# calc utilities\n",
    "# The utility for both players when they both play their first strategy:\n",
    "sigma_r = np.array([1, 0])\n",
    "sigma_c = np.array([1, 0])\n",
    "print(prisoners_dilemma[sigma_r, sigma_c])\n",
    "\n",
    "# The utility to both players when they play uniformly randomly across both their strategies\n",
    "sigma_r = np.array([0.5 , 0.5])\n",
    "sigma_c = np.array([0.5 , 0.5])\n",
    "print(prisoners_dilemma[sigma_r, sigma_c])\n",
    "\n",
    "# Solve for the equilibria using support enumeration\n",
    "equilibria = prisoners_dilemma.support_enumeration() # prisoners_dilemma.vertex_enumeration() # prisoners_dilemma.lemke_howson_enumeration()\n",
    "for eq in equilibria:\n",
    "    print(eq)"
   ]
  },
  {
   "cell_type": "markdown",
   "metadata": {},
   "source": [
    "# battle of the sexes\n",
    "two equilibria\n"
   ]
  },
  {
   "cell_type": "code",
   "execution_count": 19,
   "metadata": {},
   "outputs": [
    {
     "name": "stdout",
     "output_type": "stream",
     "text": [
      "(array([1., 0.]), array([1., 0.]))\n",
      "(array([0., 1.]), array([0., 1.]))\n",
      "(array([0.75, 0.25]), array([0.25, 0.75]))\n"
     ]
    }
   ],
   "source": [
    "A = np.array([[3, 1], [0, 2]])\n",
    "B = np.array([[2, 1], [0, 3]])\n",
    "bos = nash.Game(A, B)\n",
    "\n",
    "# Solve for the equilibria using support enumeration\n",
    "equilibria = bos.support_enumeration() # bos.vertex_enumeration() # bos.lemke_howson_enumeration()\n",
    "for eq in equilibria:\n",
    "    print(eq)"
   ]
  }
 ],
 "metadata": {
  "kernelspec": {
   "display_name": "Python 3",
   "language": "python",
   "name": "python3"
  },
  "language_info": {
   "codemirror_mode": {
    "name": "ipython",
    "version": 3
   },
   "file_extension": ".py",
   "mimetype": "text/x-python",
   "name": "python",
   "nbconvert_exporter": "python",
   "pygments_lexer": "ipython3",
   "version": "3.8.2"
  }
 },
 "nbformat": 4,
 "nbformat_minor": 4
}
