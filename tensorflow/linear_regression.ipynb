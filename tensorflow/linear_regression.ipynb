{
 "cells": [
  {
   "cell_type": "code",
   "execution_count": 1,
   "metadata": {},
   "outputs": [
    {
     "data": {
      "text/plain": [
       "<matplotlib.axes._subplots.AxesSubplot at 0x7f082393c7f0>"
      ]
     },
     "execution_count": 1,
     "metadata": {},
     "output_type": "execute_result"
    },
    {
     "data": {
      "image/png": "[encoded data removed]",
      "text/plain": [
       "<Figure size 1080x360 with 1 Axes>"
      ]
     },
     "metadata": {
      "needs_background": "light"
     },
     "output_type": "display_data"
    }
   ],
   "source": [
    "import matplotlib.pyplot as plt\n",
    "import numpy as np\n",
    "import pandas as pd\n",
    "import sklearn.model_selection\n",
    "import tensorflow as tf\n",
    "\n",
    "def create_dataframe(start, stop, n_samples):\n",
    "    # intialise dataframe\n",
    "    df = pd.DataFrame({'x':np.linspace(start, stop, n_samples)} )\n",
    "    # create response\n",
    "    df['y'] = create_exponential_growth_with_noise(a=1, r=2, t=df['x'])\n",
    "    return df\n",
    "\n",
    "def create_exponential_growth_with_noise(a, r, t):\n",
    "    e = np.random.normal(0, 1, len(t))\n",
    "    return a * r * np.exp(t) + e\n",
    "\n",
    "df = create_dataframe(6, 12, 1001)\n",
    "df.plot('x','y', figsize=(15,5), style='o')    "
   ]
  },
  {
   "cell_type": "code",
   "execution_count": 2,
   "metadata": {},
   "outputs": [
    {
     "data": {
      "text/plain": [
       "<matplotlib.axes._subplots.AxesSubplot at 0x7f08230e5460>"
      ]
     },
     "execution_count": 2,
     "metadata": {},
     "output_type": "execute_result"
    },
    {
     "data": {
      "image/png": "[encoded data removed]",
      "text/plain": [
       "<Figure size 720x360 with 1 Axes>"
      ]
     },
     "metadata": {
      "needs_background": "light"
     },
     "output_type": "display_data"
    }
   ],
   "source": [
    "# Since we want a linear model, let's take the log\n",
    "df['y'] = np.log(df['y'])\n",
    "df.plot('x','y', figsize=(10,5), style='o')    "
   ]
  },
  {
   "cell_type": "code",
   "execution_count": 3,
   "metadata": {},
   "outputs": [
    {
     "name": "stderr",
     "output_type": "stream",
     "text": [
      "<ipython-input-3-38c471562604>:9: SettingWithCopyWarning: \n",
      "A value is trying to be set on a copy of a slice from a DataFrame.\n",
      "Try using .loc[row_indexer,col_indexer] = value instead\n",
      "\n",
      "See the caveats in the documentation: https://pandas.pydata.org/pandas-docs/stable/user_guide/indexing.html#returning-a-view-versus-a-copy\n",
      "  df_train[X] = scaler.fit_transform(df_train[X].values.reshape(-1, 1))\n",
      "<ipython-input-3-38c471562604>:10: SettingWithCopyWarning: \n",
      "A value is trying to be set on a copy of a slice from a DataFrame.\n",
      "Try using .loc[row_indexer,col_indexer] = value instead\n",
      "\n",
      "See the caveats in the documentation: https://pandas.pydata.org/pandas-docs/stable/user_guide/indexing.html#returning-a-view-versus-a-copy\n",
      "  df_test[X] = scaler.transform(df_test[X].values.reshape(-1, 1))\n"
     ]
    },
    {
     "name": "stdout",
     "output_type": "stream",
     "text": [
      "Epoch 1/20\n",
      "21/21 [==============================] - 0s 3ms/step - loss: 82.6338 - lr: 0.0010\n",
      "Epoch 2/20\n",
      "21/21 [==============================] - 0s 3ms/step - loss: 38.2951 - lr: 0.0010\n",
      "Epoch 3/20\n",
      "21/21 [==============================] - 0s 3ms/step - loss: 13.7055 - lr: 0.0010\n",
      "Epoch 4/20\n",
      "21/21 [==============================] - 0s 3ms/step - loss: 4.6172 - lr: 0.0010\n",
      "Epoch 5/20\n",
      "21/21 [==============================] - 0s 3ms/step - loss: 1.5200 - lr: 0.0010\n",
      "Epoch 6/20\n",
      "21/21 [==============================] - 0s 3ms/step - loss: 0.4924 - lr: 0.0010\n",
      "Epoch 7/20\n",
      "21/21 [==============================] - 0s 3ms/step - loss: 0.1595 - lr: 0.0010\n",
      "Epoch 8/20\n",
      "21/21 [==============================] - 0s 3ms/step - loss: 0.0514 - lr: 0.0010\n",
      "Epoch 9/20\n",
      "21/21 [==============================] - 0s 3ms/step - loss: 0.0168 - lr: 0.0010\n",
      "Epoch 10/20\n",
      "21/21 [==============================] - 0s 3ms/step - loss: 0.0055 - lr: 0.0010\n",
      "Epoch 11/20\n",
      "21/21 [==============================] - 0s 3ms/step - loss: 0.0017 - lr: 0.0010\n",
      "Epoch 12/20\n",
      "21/21 [==============================] - 0s 3ms/step - loss: 5.7008e-04 - lr: 0.0010\n",
      "Epoch 13/20\n",
      "21/21 [==============================] - 0s 3ms/step - loss: 1.8187e-04 - lr: 0.0010\n",
      "Epoch 14/20\n",
      "21/21 [==============================] - 0s 3ms/step - loss: 5.9642e-05 - lr: 0.0010\n",
      "Epoch 15/20\n",
      "21/21 [==============================] - 0s 3ms/step - loss: 1.9416e-05 - lr: 0.0010\n",
      "Epoch 16/20\n",
      "21/21 [==============================] - 0s 3ms/step - loss: 7.5399e-06 - lr: 1.0000e-04\n",
      "Epoch 17/20\n",
      "21/21 [==============================] - 0s 3ms/step - loss: 5.5328e-06 - lr: 1.0000e-04\n",
      "Epoch 18/20\n",
      "21/21 [==============================] - 0s 3ms/step - loss: 4.9528e-06 - lr: 1.0000e-04\n",
      "Epoch 19/20\n",
      "21/21 [==============================] - 0s 3ms/step - loss: 4.5387e-06 - lr: 1.0000e-04\n",
      "Epoch 20/20\n",
      "21/21 [==============================] - 0s 3ms/step - loss: 4.1994e-06 - lr: 1.0000e-04\n"
     ]
    }
   ],
   "source": [
    "# split the data into train and test sets\n",
    "df_train, df_test = sklearn.model_selection.train_test_split(df, test_size=0.33)\n",
    "\n",
    "X = 'x'\n",
    "y = 'y'\n",
    "\n",
    "# Scale the data\n",
    "scaler = sklearn.preprocessing.StandardScaler()\n",
    "df_train[X] = scaler.fit_transform(df_train[X].values.reshape(-1, 1))\n",
    "df_test[X] = scaler.transform(df_test[X].values.reshape(-1, 1))\n",
    "\n",
    "# Now create the Tensorflow model\n",
    "model = tf.keras.models.Sequential([\n",
    "    tf.keras.layers.Dense(1, input_shape=(len(X), )) \n",
    "])\n",
    "model.compile(\n",
    "    optimizer=tf.keras.optimizers.SGD(0.001, 0.9),\n",
    "    loss='mse')\n",
    "\n",
    "# learning rate scheduler\n",
    "def schedule(epoch, lr):\n",
    "    if epoch >= 15:\n",
    "        return 0.0001\n",
    "    return 0.001\n",
    "scheduler = tf.keras.callbacks.LearningRateScheduler(schedule)\n",
    "\n",
    "# Train the model\n",
    "history = model.fit(df_train[X], df_train[y], epochs=20, callbacks=[scheduler]) # .reshape(-1, 1)\n"
   ]
  },
  {
   "cell_type": "code",
   "execution_count": null,
   "metadata": {},
   "outputs": [],
   "source": [
    "df_history = pd.DataFrame(history.history)\n",
    "for metric in ['loss']:\n",
    "    df_history[metric].plot(figsize=(10,5), label=metric)\n",
    "    plt.show()"
   ]
  },
  {
   "cell_type": "code",
   "execution_count": null,
   "metadata": {},
   "outputs": [],
   "source": [
    "df_test['y_pred'] = model.predict(df_test[X])\n",
    "df_test['residual'] = (df_test['y'] - df_test['y_pred'])"
   ]
  },
  {
   "cell_type": "code",
   "execution_count": null,
   "metadata": {},
   "outputs": [],
   "source": [
    "df_test.plot('x', y=['y', 'y_pred', 'residual'], figsize=(10,5), style='o')"
   ]
  }
 ],
 "metadata": {
  "kernelspec": {
   "display_name": "Python 3",
   "language": "python",
   "name": "python3"
  },
  "language_info": {
   "codemirror_mode": {
    "name": "ipython",
    "version": 3
   },
   "file_extension": ".py",
   "mimetype": "text/x-python",
   "name": "python",
   "nbconvert_exporter": "python",
   "pygments_lexer": "ipython3",
   "version": "3.8.2"
  }
 },
 "nbformat": 4,
 "nbformat_minor": 4
}
